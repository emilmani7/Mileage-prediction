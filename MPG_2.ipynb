{
  "nbformat": 4,
  "nbformat_minor": 0,
  "metadata": {
    "colab": {
      "name": "MPG 2.ipynb",
      "provenance": []
    },
    "kernelspec": {
      "name": "python3",
      "display_name": "Python 3"
    },
    "language_info": {
      "name": "python"
    }
  },
  "cells": [
    {
      "cell_type": "code",
      "execution_count": null,
      "metadata": {
        "id": "6Q222zxBKg1L"
      },
      "outputs": [],
      "source": [
        "##importing a few general use case libraries\n",
        "import numpy as np\n",
        "import pandas as pd\n",
        "import matplotlib.pyplot as plt\n",
        "import seaborn as sns\n",
        "\n",
        "from sklearn.model_selection import StratifiedShuffleSplit\n",
        "from sklearn.base import BaseEstimator, TransformerMixin\n",
        "from sklearn.pipeline import Pipeline\n",
        "\n",
        "from sklearn.impute import SimpleImputer\n",
        "from sklearn.preprocessing import StandardScaler, OneHotEncoder\n",
        "from sklearn.compose import ColumnTransformer\n",
        "\n",
        "\n",
        "\n",
        "import warnings\n",
        "warnings.filterwarnings('ignore')"
      ]
    },
    {
      "cell_type": "code",
      "source": [
        "!wget \"http://archive.ics.uci.edu/ml/machine-learning-databases/auto-mpg/auto-mpg.data\""
      ],
      "metadata": {
        "colab": {
          "base_uri": "https://localhost:8080/"
        },
        "id": "YQp73HDYsbOG",
        "outputId": "e6dfb170-1255-4e08-c1e9-9e0806fbcb66"
      },
      "execution_count": null,
      "outputs": [
        {
          "output_type": "stream",
          "name": "stdout",
          "text": [
            "--2022-08-23 12:33:44--  http://archive.ics.uci.edu/ml/machine-learning-databases/auto-mpg/auto-mpg.data\n",
            "Resolving archive.ics.uci.edu (archive.ics.uci.edu)... 128.195.10.252\n",
            "Connecting to archive.ics.uci.edu (archive.ics.uci.edu)|128.195.10.252|:80... connected.\n",
            "HTTP request sent, awaiting response... 200 OK\n",
            "Length: 30286 (30K) [application/x-httpd-php]\n",
            "Saving to: ‘auto-mpg.data’\n",
            "\n",
            "auto-mpg.data       100%[===================>]  29.58K  --.-KB/s    in 0.1s    \n",
            "\n",
            "2022-08-23 12:33:45 (229 KB/s) - ‘auto-mpg.data’ saved [30286/30286]\n",
            "\n"
          ]
        }
      ]
    },
    {
      "cell_type": "code",
      "source": [
        "# reading the .data file using pandas\n",
        "\n",
        "cols = ['MPG','Cylinders','Displacement','Horsepower','Weight',\n",
        "                'Acceleration', 'Model Year', 'Origin']\n",
        "\n",
        "df = pd.read_csv('./auto-mpg.data', names=cols, na_values = \"?\",\n",
        "                comment = '\\t',\n",
        "                sep= \" \",\n",
        "                skipinitialspace=True)\n",
        "\n",
        "data = df.copy()\n",
        "\n",
        "split = StratifiedShuffleSplit(n_splits=1, test_size=0.2, random_state=42)\n",
        "for train_index, test_index in split.split(data, data[\"Cylinders\"]):\n",
        "    strat_train_set = data.loc[train_index]\n",
        "    strat_test_set = data.loc[test_index]"
      ],
      "metadata": {
        "id": "EOqpSMC9KqLO"
      },
      "execution_count": null,
      "outputs": []
    },
    {
      "cell_type": "code",
      "source": [
        "##segregate the feature and target variable\n",
        "data = strat_train_set.drop(\"MPG\", axis=1)\n",
        "data_labels = strat_train_set[\"MPG\"].copy()\n",
        "data"
      ],
      "metadata": {
        "colab": {
          "base_uri": "https://localhost:8080/",
          "height": 423
        },
        "id": "E2zSa3mPKqNd",
        "outputId": "b9739b56-26f6-4236-b6ec-2c128ad0ffb7"
      },
      "execution_count": null,
      "outputs": [
        {
          "output_type": "execute_result",
          "data": {
            "text/plain": [
              "     Cylinders  Displacement  Horsepower  Weight  Acceleration  Model Year  \\\n",
              "145          4          83.0        61.0  2003.0          19.0          74   \n",
              "151          4          79.0        67.0  2000.0          16.0          74   \n",
              "388          4         156.0        92.0  2585.0          14.5          82   \n",
              "48           6         250.0        88.0  3139.0          14.5          71   \n",
              "114          4          98.0        90.0  2265.0          15.5          73   \n",
              "..         ...           ...         ...     ...           ...         ...   \n",
              "147          4          90.0        75.0  2108.0          15.5          74   \n",
              "156          8         400.0       170.0  4668.0          11.5          75   \n",
              "395          4         135.0        84.0  2295.0          11.6          82   \n",
              "14           4         113.0        95.0  2372.0          15.0          70   \n",
              "362          6         146.0       120.0  2930.0          13.8          81   \n",
              "\n",
              "     Origin  \n",
              "145       3  \n",
              "151       2  \n",
              "388       1  \n",
              "48        1  \n",
              "114       2  \n",
              "..      ...  \n",
              "147       2  \n",
              "156       1  \n",
              "395       1  \n",
              "14        3  \n",
              "362       3  \n",
              "\n",
              "[318 rows x 7 columns]"
            ],
            "text/html": [
              "\n",
              "  <div id=\"df-f75e517e-2556-47a0-a063-df963a5957f2\">\n",
              "    <div class=\"colab-df-container\">\n",
              "      <div>\n",
              "<style scoped>\n",
              "    .dataframe tbody tr th:only-of-type {\n",
              "        vertical-align: middle;\n",
              "    }\n",
              "\n",
              "    .dataframe tbody tr th {\n",
              "        vertical-align: top;\n",
              "    }\n",
              "\n",
              "    .dataframe thead th {\n",
              "        text-align: right;\n",
              "    }\n",
              "</style>\n",
              "<table border=\"1\" class=\"dataframe\">\n",
              "  <thead>\n",
              "    <tr style=\"text-align: right;\">\n",
              "      <th></th>\n",
              "      <th>Cylinders</th>\n",
              "      <th>Displacement</th>\n",
              "      <th>Horsepower</th>\n",
              "      <th>Weight</th>\n",
              "      <th>Acceleration</th>\n",
              "      <th>Model Year</th>\n",
              "      <th>Origin</th>\n",
              "    </tr>\n",
              "  </thead>\n",
              "  <tbody>\n",
              "    <tr>\n",
              "      <th>145</th>\n",
              "      <td>4</td>\n",
              "      <td>83.0</td>\n",
              "      <td>61.0</td>\n",
              "      <td>2003.0</td>\n",
              "      <td>19.0</td>\n",
              "      <td>74</td>\n",
              "      <td>3</td>\n",
              "    </tr>\n",
              "    <tr>\n",
              "      <th>151</th>\n",
              "      <td>4</td>\n",
              "      <td>79.0</td>\n",
              "      <td>67.0</td>\n",
              "      <td>2000.0</td>\n",
              "      <td>16.0</td>\n",
              "      <td>74</td>\n",
              "      <td>2</td>\n",
              "    </tr>\n",
              "    <tr>\n",
              "      <th>388</th>\n",
              "      <td>4</td>\n",
              "      <td>156.0</td>\n",
              "      <td>92.0</td>\n",
              "      <td>2585.0</td>\n",
              "      <td>14.5</td>\n",
              "      <td>82</td>\n",
              "      <td>1</td>\n",
              "    </tr>\n",
              "    <tr>\n",
              "      <th>48</th>\n",
              "      <td>6</td>\n",
              "      <td>250.0</td>\n",
              "      <td>88.0</td>\n",
              "      <td>3139.0</td>\n",
              "      <td>14.5</td>\n",
              "      <td>71</td>\n",
              "      <td>1</td>\n",
              "    </tr>\n",
              "    <tr>\n",
              "      <th>114</th>\n",
              "      <td>4</td>\n",
              "      <td>98.0</td>\n",
              "      <td>90.0</td>\n",
              "      <td>2265.0</td>\n",
              "      <td>15.5</td>\n",
              "      <td>73</td>\n",
              "      <td>2</td>\n",
              "    </tr>\n",
              "    <tr>\n",
              "      <th>...</th>\n",
              "      <td>...</td>\n",
              "      <td>...</td>\n",
              "      <td>...</td>\n",
              "      <td>...</td>\n",
              "      <td>...</td>\n",
              "      <td>...</td>\n",
              "      <td>...</td>\n",
              "    </tr>\n",
              "    <tr>\n",
              "      <th>147</th>\n",
              "      <td>4</td>\n",
              "      <td>90.0</td>\n",
              "      <td>75.0</td>\n",
              "      <td>2108.0</td>\n",
              "      <td>15.5</td>\n",
              "      <td>74</td>\n",
              "      <td>2</td>\n",
              "    </tr>\n",
              "    <tr>\n",
              "      <th>156</th>\n",
              "      <td>8</td>\n",
              "      <td>400.0</td>\n",
              "      <td>170.0</td>\n",
              "      <td>4668.0</td>\n",
              "      <td>11.5</td>\n",
              "      <td>75</td>\n",
              "      <td>1</td>\n",
              "    </tr>\n",
              "    <tr>\n",
              "      <th>395</th>\n",
              "      <td>4</td>\n",
              "      <td>135.0</td>\n",
              "      <td>84.0</td>\n",
              "      <td>2295.0</td>\n",
              "      <td>11.6</td>\n",
              "      <td>82</td>\n",
              "      <td>1</td>\n",
              "    </tr>\n",
              "    <tr>\n",
              "      <th>14</th>\n",
              "      <td>4</td>\n",
              "      <td>113.0</td>\n",
              "      <td>95.0</td>\n",
              "      <td>2372.0</td>\n",
              "      <td>15.0</td>\n",
              "      <td>70</td>\n",
              "      <td>3</td>\n",
              "    </tr>\n",
              "    <tr>\n",
              "      <th>362</th>\n",
              "      <td>6</td>\n",
              "      <td>146.0</td>\n",
              "      <td>120.0</td>\n",
              "      <td>2930.0</td>\n",
              "      <td>13.8</td>\n",
              "      <td>81</td>\n",
              "      <td>3</td>\n",
              "    </tr>\n",
              "  </tbody>\n",
              "</table>\n",
              "<p>318 rows × 7 columns</p>\n",
              "</div>\n",
              "      <button class=\"colab-df-convert\" onclick=\"convertToInteractive('df-f75e517e-2556-47a0-a063-df963a5957f2')\"\n",
              "              title=\"Convert this dataframe to an interactive table.\"\n",
              "              style=\"display:none;\">\n",
              "        \n",
              "  <svg xmlns=\"http://www.w3.org/2000/svg\" height=\"24px\"viewBox=\"0 0 24 24\"\n",
              "       width=\"24px\">\n",
              "    <path d=\"M0 0h24v24H0V0z\" fill=\"none\"/>\n",
              "    <path d=\"M18.56 5.44l.94 2.06.94-2.06 2.06-.94-2.06-.94-.94-2.06-.94 2.06-2.06.94zm-11 1L8.5 8.5l.94-2.06 2.06-.94-2.06-.94L8.5 2.5l-.94 2.06-2.06.94zm10 10l.94 2.06.94-2.06 2.06-.94-2.06-.94-.94-2.06-.94 2.06-2.06.94z\"/><path d=\"M17.41 7.96l-1.37-1.37c-.4-.4-.92-.59-1.43-.59-.52 0-1.04.2-1.43.59L10.3 9.45l-7.72 7.72c-.78.78-.78 2.05 0 2.83L4 21.41c.39.39.9.59 1.41.59.51 0 1.02-.2 1.41-.59l7.78-7.78 2.81-2.81c.8-.78.8-2.07 0-2.86zM5.41 20L4 18.59l7.72-7.72 1.47 1.35L5.41 20z\"/>\n",
              "  </svg>\n",
              "      </button>\n",
              "      \n",
              "  <style>\n",
              "    .colab-df-container {\n",
              "      display:flex;\n",
              "      flex-wrap:wrap;\n",
              "      gap: 12px;\n",
              "    }\n",
              "\n",
              "    .colab-df-convert {\n",
              "      background-color: #E8F0FE;\n",
              "      border: none;\n",
              "      border-radius: 50%;\n",
              "      cursor: pointer;\n",
              "      display: none;\n",
              "      fill: #1967D2;\n",
              "      height: 32px;\n",
              "      padding: 0 0 0 0;\n",
              "      width: 32px;\n",
              "    }\n",
              "\n",
              "    .colab-df-convert:hover {\n",
              "      background-color: #E2EBFA;\n",
              "      box-shadow: 0px 1px 2px rgba(60, 64, 67, 0.3), 0px 1px 3px 1px rgba(60, 64, 67, 0.15);\n",
              "      fill: #174EA6;\n",
              "    }\n",
              "\n",
              "    [theme=dark] .colab-df-convert {\n",
              "      background-color: #3B4455;\n",
              "      fill: #D2E3FC;\n",
              "    }\n",
              "\n",
              "    [theme=dark] .colab-df-convert:hover {\n",
              "      background-color: #434B5C;\n",
              "      box-shadow: 0px 1px 3px 1px rgba(0, 0, 0, 0.15);\n",
              "      filter: drop-shadow(0px 1px 2px rgba(0, 0, 0, 0.3));\n",
              "      fill: #FFFFFF;\n",
              "    }\n",
              "  </style>\n",
              "\n",
              "      <script>\n",
              "        const buttonEl =\n",
              "          document.querySelector('#df-f75e517e-2556-47a0-a063-df963a5957f2 button.colab-df-convert');\n",
              "        buttonEl.style.display =\n",
              "          google.colab.kernel.accessAllowed ? 'block' : 'none';\n",
              "\n",
              "        async function convertToInteractive(key) {\n",
              "          const element = document.querySelector('#df-f75e517e-2556-47a0-a063-df963a5957f2');\n",
              "          const dataTable =\n",
              "            await google.colab.kernel.invokeFunction('convertToInteractive',\n",
              "                                                     [key], {});\n",
              "          if (!dataTable) return;\n",
              "\n",
              "          const docLinkHtml = 'Like what you see? Visit the ' +\n",
              "            '<a target=\"_blank\" href=https://colab.research.google.com/notebooks/data_table.ipynb>data table notebook</a>'\n",
              "            + ' to learn more about interactive tables.';\n",
              "          element.innerHTML = '';\n",
              "          dataTable['output_type'] = 'display_data';\n",
              "          await google.colab.output.renderOutput(dataTable, element);\n",
              "          const docLink = document.createElement('div');\n",
              "          docLink.innerHTML = docLinkHtml;\n",
              "          element.appendChild(docLink);\n",
              "        }\n",
              "      </script>\n",
              "    </div>\n",
              "  </div>\n",
              "  "
            ]
          },
          "metadata": {},
          "execution_count": 7
        }
      ]
    },
    {
      "cell_type": "code",
      "source": [
        "##preprocess the Origin column in data\n",
        "def preprocess_origin_cols(df):\n",
        "    df[\"Origin\"] = df[\"Origin\"].map({1: \"India\", 2: \"USA\", 3: \"Germany\"})\n",
        "    return df"
      ],
      "metadata": {
        "id": "FigBPcN7KqO1"
      },
      "execution_count": null,
      "outputs": []
    },
    {
      "cell_type": "code",
      "source": [
        "##creating custom attribute adder class\n",
        "acc_ix, hpower_ix, cyl_ix = 4,2, 0\n",
        "\n",
        "class CustomAttrAdder(BaseEstimator, TransformerMixin):\n",
        "    def __init__(self, acc_on_power=True): # no *args or **kargs\n",
        "        self.acc_on_power = acc_on_power\n",
        "    def fit(self, X, y=None):\n",
        "        return self  # nothing else to do\n",
        "    def transform(self, X):\n",
        "        acc_on_cyl = X[:, acc_ix] / X[:, cyl_ix]\n",
        "        if self.acc_on_power:\n",
        "            acc_on_power = X[:, acc_ix] / X[:, hpower_ix]\n",
        "            return np.c_[X, acc_on_power, acc_on_cyl]\n",
        "        \n",
        "        return np.c_[X, acc_on_cyl]"
      ],
      "metadata": {
        "id": "b0rdYOfFKqQm"
      },
      "execution_count": null,
      "outputs": []
    },
    {
      "cell_type": "code",
      "source": [
        "   def num_pipeline_transformer(data):\n",
        "    '''\n",
        "    Function to process numerical transformations\n",
        "    Argument:\n",
        "        data: original dataframe \n",
        "    Returns:\n",
        "        num_attrs: numerical dataframe\n",
        "        num_pipeline: numerical pipeline object\n",
        "        \n",
        "    '''\n",
        "    numerics = ['float64', 'int64']\n",
        "\n",
        "    num_attrs = data.select_dtypes(include=numerics)\n",
        "\n",
        "    num_pipeline = Pipeline([\n",
        "        ('imputer', SimpleImputer(strategy=\"median\")),\n",
        "        ('attrs_adder', CustomAttrAdder()),\n",
        "        ('std_scaler', StandardScaler()),\n",
        "        ])\n",
        "    return num_attrs, num_pipeline\n",
        "\n",
        "\n",
        "def pipeline_transformer(data):\n",
        "    '''\n",
        "    Complete transformation pipeline for both\n",
        "    nuerical and categorical data.\n",
        "    \n",
        "    Argument:\n",
        "        data: original dataframe \n",
        "    Returns:\n",
        "        prepared_data: transformed data, ready to use\n",
        "    '''\n",
        "    cat_attrs = [\"Origin\"]\n",
        "    num_attrs, num_pipeline = num_pipeline_transformer(data)\n",
        "    full_pipeline = ColumnTransformer([\n",
        "        (\"num\", num_pipeline, list(num_attrs)),\n",
        "        (\"cat\", OneHotEncoder(), cat_attrs),\n",
        "        ])\n",
        "    prepared_data = full_pipeline.fit_transform(data)\n",
        "    return prepared_data"
      ],
      "metadata": {
        "id": "6Azan6HaKqSX"
      },
      "execution_count": null,
      "outputs": []
    },
    {
      "cell_type": "code",
      "source": [
        "##from raw data to processed data in 2 steps\n",
        "preprocessed_df = preprocess_origin_cols(data)\n",
        "prepared_data = pipeline_transformer(preprocessed_df)\n",
        "prepared_data"
      ],
      "metadata": {
        "id": "diiECtdhKqUM",
        "colab": {
          "base_uri": "https://localhost:8080/"
        },
        "outputId": "5442e333-ccca-41de-dba3-f40866bf4d18"
      },
      "execution_count": null,
      "outputs": [
        {
          "output_type": "execute_result",
          "data": {
            "text/plain": [
              "array([[-0.85657842, -1.07804475, -1.15192977, ...,  1.        ,\n",
              "         0.        ,  0.        ],\n",
              "       [-0.85657842, -1.1174582 , -0.9900351 , ...,  0.        ,\n",
              "         0.        ,  1.        ],\n",
              "       [-0.85657842, -0.3587492 , -0.31547399, ...,  0.        ,\n",
              "         1.        ,  0.        ],\n",
              "       ...,\n",
              "       [-0.85657842, -0.56566984, -0.53133355, ...,  0.        ,\n",
              "         1.        ,  0.        ],\n",
              "       [-0.85657842, -0.78244384, -0.23452666, ...,  1.        ,\n",
              "         0.        ,  0.        ],\n",
              "       [ 0.32260746, -0.45728283,  0.44003446, ...,  1.        ,\n",
              "         0.        ,  0.        ]])"
            ]
          },
          "metadata": {},
          "execution_count": 19
        }
      ]
    },
    {
      "cell_type": "code",
      "source": [
        "prepared_data[0]"
      ],
      "metadata": {
        "id": "2Ck1FT_DKqWG",
        "colab": {
          "base_uri": "https://localhost:8080/"
        },
        "outputId": "f46464a1-5b39-4c4e-96fb-241a333f8931"
      },
      "execution_count": null,
      "outputs": [
        {
          "output_type": "execute_result",
          "data": {
            "text/plain": [
              "array([-0.85657842, -1.07804475, -1.15192977, -1.17220298,  1.21586943,\n",
              "       -0.54436373,  1.70952741,  1.29565517,  1.        ,  0.        ,\n",
              "        0.        ])"
            ]
          },
          "metadata": {},
          "execution_count": 20
        }
      ]
    },
    {
      "cell_type": "code",
      "source": [
        "from sklearn.linear_model import LinearRegression\n",
        "\n",
        "lin_reg = LinearRegression()\n",
        "lin_reg.fit(prepared_data, data_labels)"
      ],
      "metadata": {
        "id": "KnJ4RdDIKqX1",
        "colab": {
          "base_uri": "https://localhost:8080/"
        },
        "outputId": "830a9efc-0df9-4452-d971-38e23abfa420"
      },
      "execution_count": null,
      "outputs": [
        {
          "output_type": "execute_result",
          "data": {
            "text/plain": [
              "LinearRegression()"
            ]
          },
          "metadata": {},
          "execution_count": 21
        }
      ]
    },
    {
      "cell_type": "code",
      "source": [
        "##testing the predictions with the \n",
        "sample_data = data.iloc[:5]\n",
        "sample_labels = data_labels.iloc[:5]\n",
        "\n",
        "sample_data_prepared = pipeline_transformer(sample_data)\n",
        "\n",
        "print(\"Prediction of samples: \", lin_reg.predict(sample_data_prepared))"
      ],
      "metadata": {
        "id": "b0_6u9PiKqZn",
        "colab": {
          "base_uri": "https://localhost:8080/"
        },
        "outputId": "c101828c-9b35-45e4-d9b8-a608594d76af"
      },
      "execution_count": null,
      "outputs": [
        {
          "output_type": "stream",
          "name": "stdout",
          "text": [
            "Prediction of samples:  [29.08069379 27.78336755 26.08031176 12.70419279 22.23454159]\n"
          ]
        }
      ]
    },
    {
      "cell_type": "code",
      "source": [
        "print(\"Actual Labels of samples: \", list(sample_labels))"
      ],
      "metadata": {
        "id": "TG_91qfjKqbm",
        "colab": {
          "base_uri": "https://localhost:8080/"
        },
        "outputId": "273c72ec-c97a-4652-cdc4-21bfd98e0e9c"
      },
      "execution_count": null,
      "outputs": [
        {
          "output_type": "stream",
          "name": "stdout",
          "text": [
            "Actual Labels of samples:  [32.0, 31.0, 26.0, 18.0, 26.0]\n"
          ]
        }
      ]
    },
    {
      "cell_type": "code",
      "source": [
        "from sklearn.metrics import mean_squared_error\n",
        "\n",
        "mpg_predictions = lin_reg.predict(prepared_data)\n",
        "lin_mse = mean_squared_error(data_labels, mpg_predictions)\n",
        "lin_rmse = np.sqrt(lin_mse)\n",
        "lin_rmse"
      ],
      "metadata": {
        "id": "76cOTneKKqdO",
        "colab": {
          "base_uri": "https://localhost:8080/"
        },
        "outputId": "6f241335-7ebc-46a7-fe37-bbc56aefb194"
      },
      "execution_count": null,
      "outputs": [
        {
          "output_type": "execute_result",
          "data": {
            "text/plain": [
              "2.9590402225760872"
            ]
          },
          "metadata": {},
          "execution_count": 24
        }
      ]
    },
    {
      "cell_type": "code",
      "source": [
        "from sklearn.tree import DecisionTreeRegressor\n",
        "\n",
        "tree_reg = DecisionTreeRegressor()\n",
        "tree_reg.fit(prepared_data, data_labels)"
      ],
      "metadata": {
        "id": "hU0MFRXIKqfG",
        "colab": {
          "base_uri": "https://localhost:8080/"
        },
        "outputId": "5aa7290b-ed3a-4c6a-f342-7193786a3c68"
      },
      "execution_count": null,
      "outputs": [
        {
          "output_type": "execute_result",
          "data": {
            "text/plain": [
              "DecisionTreeRegressor()"
            ]
          },
          "metadata": {},
          "execution_count": 25
        }
      ]
    },
    {
      "cell_type": "code",
      "source": [
        "mpg_predictions = tree_reg.predict(prepared_data)\n",
        "tree_mse = mean_squared_error(data_labels, mpg_predictions)\n",
        "tree_rmse = np.sqrt(tree_mse)\n",
        "tree_rmse"
      ],
      "metadata": {
        "id": "m0ZigiGaKqg7",
        "colab": {
          "base_uri": "https://localhost:8080/"
        },
        "outputId": "b8484e06-70a3-488c-e333-558a3ad00947"
      },
      "execution_count": null,
      "outputs": [
        {
          "output_type": "execute_result",
          "data": {
            "text/plain": [
              "0.0"
            ]
          },
          "metadata": {},
          "execution_count": 26
        }
      ]
    },
    {
      "cell_type": "code",
      "source": [
        "from sklearn.model_selection import cross_val_score\n",
        "\n",
        "scores = cross_val_score(tree_reg, \n",
        "                         prepared_data, \n",
        "                         data_labels, \n",
        "                         scoring=\"neg_mean_squared_error\", \n",
        "                         cv = 10)\n",
        "tree_reg_rmse_scores = np.sqrt(-scores)"
      ],
      "metadata": {
        "id": "ry_vkBgsKqil"
      },
      "execution_count": null,
      "outputs": []
    },
    {
      "cell_type": "code",
      "source": [
        "tree_reg_rmse_scores"
      ],
      "metadata": {
        "id": "O_UW34PDKqkl",
        "colab": {
          "base_uri": "https://localhost:8080/"
        },
        "outputId": "6a4be9bb-cffc-4eaf-d26f-b1540a4ae720"
      },
      "execution_count": null,
      "outputs": [
        {
          "output_type": "execute_result",
          "data": {
            "text/plain": [
              "array([2.96426635, 2.83725219, 3.1912478 , 3.51127648, 2.2609456 ,\n",
              "       3.02701379, 3.83381338, 3.78723184, 4.23232568, 2.64666558])"
            ]
          },
          "metadata": {},
          "execution_count": 28
        }
      ]
    },
    {
      "cell_type": "code",
      "source": [
        "tree_reg_rmse_scores.mean()"
      ],
      "metadata": {
        "id": "zjvH0QE4Kqmm",
        "colab": {
          "base_uri": "https://localhost:8080/"
        },
        "outputId": "e5c7f0df-aa1a-48b7-b5c6-c9660ca13af7"
      },
      "execution_count": null,
      "outputs": [
        {
          "output_type": "execute_result",
          "data": {
            "text/plain": [
              "3.2292038683784225"
            ]
          },
          "metadata": {},
          "execution_count": 29
        }
      ]
    },
    {
      "cell_type": "code",
      "source": [
        "scores = cross_val_score(lin_reg, prepared_data, data_labels, scoring=\"neg_mean_squared_error\", cv = 10)\n",
        "lin_reg_rmse_scores = np.sqrt(-scores)\n",
        "lin_reg_rmse_scores"
      ],
      "metadata": {
        "id": "UQ1HSrFUKqoe",
        "colab": {
          "base_uri": "https://localhost:8080/"
        },
        "outputId": "92e8a217-e456-4f93-a908-1ec50b8d0813"
      },
      "execution_count": null,
      "outputs": [
        {
          "output_type": "execute_result",
          "data": {
            "text/plain": [
              "array([3.43254597, 3.45157629, 3.6621715 , 2.59652976, 2.48023405,\n",
              "       2.74798115, 3.32524647, 2.42208917, 3.78133275, 2.8573747 ])"
            ]
          },
          "metadata": {},
          "execution_count": 30
        }
      ]
    },
    {
      "cell_type": "code",
      "source": [
        "lin_reg_rmse_scores.mean()"
      ],
      "metadata": {
        "id": "A9U9Bh7eKqqV",
        "colab": {
          "base_uri": "https://localhost:8080/"
        },
        "outputId": "0d881933-1036-4704-c215-c15152fc43c1"
      },
      "execution_count": null,
      "outputs": [
        {
          "output_type": "execute_result",
          "data": {
            "text/plain": [
              "3.0757081793709333"
            ]
          },
          "metadata": {},
          "execution_count": 31
        }
      ]
    },
    {
      "cell_type": "code",
      "source": [
        "from sklearn.ensemble import RandomForestRegressor\n",
        "\n",
        "forest_reg = RandomForestRegressor()\n",
        "forest_reg.fit(prepared_data, data_labels)\n",
        "forest_reg_cv_scores = cross_val_score(forest_reg,\n",
        "                                         prepared_data,\n",
        "                                         data_labels,\n",
        "                                         scoring='neg_mean_squared_error',\n",
        "                                         cv = 10)\n",
        "\n",
        "forest_reg_rmse_scores = np.sqrt(-forest_reg_cv_scores)\n",
        "forest_reg_rmse_scores.mean()"
      ],
      "metadata": {
        "id": "Y70_Q4jsKqsO",
        "colab": {
          "base_uri": "https://localhost:8080/"
        },
        "outputId": "3a4b390a-2006-4029-ab2c-9722ebc48941"
      },
      "execution_count": null,
      "outputs": [
        {
          "output_type": "execute_result",
          "data": {
            "text/plain": [
              "2.584829672525274"
            ]
          },
          "metadata": {},
          "execution_count": 32
        }
      ]
    },
    {
      "cell_type": "code",
      "source": [
        "from sklearn.svm import SVR\n",
        "\n",
        "svm_reg = SVR(kernel='linear')\n",
        "svm_reg.fit(prepared_data, data_labels)\n",
        "svm_cv_scores = cross_val_score(svm_reg, prepared_data, data_labels,\n",
        "                                scoring='neg_mean_squared_error',\n",
        "                                cv = 10)\n",
        "svm_rmse_scores = np.sqrt(-svm_cv_scores)\n",
        "svm_rmse_scores.mean()"
      ],
      "metadata": {
        "id": "Fy812e7wKquH",
        "colab": {
          "base_uri": "https://localhost:8080/"
        },
        "outputId": "1ce8835c-4cf7-43c3-87a8-430175512432"
      },
      "execution_count": null,
      "outputs": [
        {
          "output_type": "execute_result",
          "data": {
            "text/plain": [
              "3.08659162080283"
            ]
          },
          "metadata": {},
          "execution_count": 33
        }
      ]
    },
    {
      "cell_type": "code",
      "source": [
        "from sklearn.model_selection import GridSearchCV\n",
        "\n",
        "param_grid = [\n",
        "    {'n_estimators': [3, 10, 30], 'max_features': [2, 4, 6, 8]},\n",
        "    {'bootstrap': [False], 'n_estimators': [3, 10], 'max_features': [2, 3, 4]},\n",
        "  ]\n",
        "\n",
        "forest_reg = RandomForestRegressor()\n",
        "\n",
        "grid_search = GridSearchCV(forest_reg, param_grid,\n",
        "                           scoring='neg_mean_squared_error',\n",
        "                           return_train_score=True,\n",
        "                           cv=10,\n",
        "                          )\n",
        "\n",
        "grid_search.fit(prepared_data, data_labels)"
      ],
      "metadata": {
        "id": "Dlpu-uMAKqwF",
        "colab": {
          "base_uri": "https://localhost:8080/"
        },
        "outputId": "e6397501-ebdf-4a72-a392-58590fe29eff"
      },
      "execution_count": null,
      "outputs": [
        {
          "output_type": "execute_result",
          "data": {
            "text/plain": [
              "GridSearchCV(cv=10, estimator=RandomForestRegressor(),\n",
              "             param_grid=[{'max_features': [2, 4, 6, 8],\n",
              "                          'n_estimators': [3, 10, 30]},\n",
              "                         {'bootstrap': [False], 'max_features': [2, 3, 4],\n",
              "                          'n_estimators': [3, 10]}],\n",
              "             return_train_score=True, scoring='neg_mean_squared_error')"
            ]
          },
          "metadata": {},
          "execution_count": 34
        }
      ]
    },
    {
      "cell_type": "code",
      "source": [
        "grid_search.best_params_"
      ],
      "metadata": {
        "id": "4XEd0ORbKq1W",
        "colab": {
          "base_uri": "https://localhost:8080/"
        },
        "outputId": "39c01bec-d61c-4c49-c1d7-796eb75b3019"
      },
      "execution_count": null,
      "outputs": [
        {
          "output_type": "execute_result",
          "data": {
            "text/plain": [
              "{'max_features': 8, 'n_estimators': 30}"
            ]
          },
          "metadata": {},
          "execution_count": 35
        }
      ]
    },
    {
      "cell_type": "code",
      "source": [
        "cv_scores = grid_search.cv_results_\n",
        "\n",
        "##printing all the parameters along with their scores\n",
        "for mean_score, params in zip(cv_scores['mean_test_score'], cv_scores[\"params\"]):\n",
        "    print(np.sqrt(-mean_score), params)"
      ],
      "metadata": {
        "id": "9wBmBFODKq3F",
        "colab": {
          "base_uri": "https://localhost:8080/"
        },
        "outputId": "18a92068-9fa1-41d3-d7c9-fa0413814585"
      },
      "execution_count": null,
      "outputs": [
        {
          "output_type": "stream",
          "name": "stdout",
          "text": [
            "3.551506728812838 {'max_features': 2, 'n_estimators': 3}\n",
            "3.1182573435954732 {'max_features': 2, 'n_estimators': 10}\n",
            "2.830212512012505 {'max_features': 2, 'n_estimators': 30}\n",
            "3.3877812048500835 {'max_features': 4, 'n_estimators': 3}\n",
            "2.821274625787589 {'max_features': 4, 'n_estimators': 10}\n",
            "2.776536912047912 {'max_features': 4, 'n_estimators': 30}\n",
            "3.2398647450639424 {'max_features': 6, 'n_estimators': 3}\n",
            "2.8377270159293833 {'max_features': 6, 'n_estimators': 10}\n",
            "2.7257961977217477 {'max_features': 6, 'n_estimators': 30}\n",
            "2.997281679895634 {'max_features': 8, 'n_estimators': 3}\n",
            "2.8011612079463095 {'max_features': 8, 'n_estimators': 10}\n",
            "2.692972530403377 {'max_features': 8, 'n_estimators': 30}\n",
            "3.480465390851856 {'bootstrap': False, 'max_features': 2, 'n_estimators': 3}\n",
            "2.9220075021707137 {'bootstrap': False, 'max_features': 2, 'n_estimators': 10}\n",
            "3.2683264655331876 {'bootstrap': False, 'max_features': 3, 'n_estimators': 3}\n",
            "2.8401740756935894 {'bootstrap': False, 'max_features': 3, 'n_estimators': 10}\n",
            "2.940551549280933 {'bootstrap': False, 'max_features': 4, 'n_estimators': 3}\n",
            "2.7362674073629525 {'bootstrap': False, 'max_features': 4, 'n_estimators': 10}\n"
          ]
        }
      ]
    },
    {
      "cell_type": "code",
      "source": [
        "# feature importances \n",
        "\n",
        "feature_importances = grid_search.best_estimator_.feature_importances_\n",
        "feature_importances"
      ],
      "metadata": {
        "id": "BzCPbOJmKq4-",
        "colab": {
          "base_uri": "https://localhost:8080/"
        },
        "outputId": "371bf2a1-8073-48d6-845b-3506d0db2f90"
      },
      "execution_count": null,
      "outputs": [
        {
          "output_type": "execute_result",
          "data": {
            "text/plain": [
              "array([0.19333802, 0.23730481, 0.17860845, 0.19072283, 0.01569357,\n",
              "       0.116152  , 0.02330842, 0.03773052, 0.00306261, 0.00197565,\n",
              "       0.00210312])"
            ]
          },
          "metadata": {},
          "execution_count": 37
        }
      ]
    },
    {
      "cell_type": "code",
      "source": [
        "extra_attrs = [\"acc_on_power\", \"acc_on_cyl\"]\n",
        "numerics = ['float64', 'int64']\n",
        "num_attrs = list(data.select_dtypes(include=numerics))\n",
        "\n",
        "attrs = num_attrs + extra_attrs\n",
        "sorted(zip(attrs, feature_importances), reverse=True)"
      ],
      "metadata": {
        "id": "q-4FZvr6Kq6t",
        "colab": {
          "base_uri": "https://localhost:8080/"
        },
        "outputId": "077c8164-5dfb-484d-a83c-bfbbb7ca7983"
      },
      "execution_count": null,
      "outputs": [
        {
          "output_type": "execute_result",
          "data": {
            "text/plain": [
              "[('acc_on_power', 0.0233084218368115),\n",
              " ('acc_on_cyl', 0.0377305238861483),\n",
              " ('Weight', 0.1907228260704529),\n",
              " ('Model Year', 0.11615199968366002),\n",
              " ('Horsepower', 0.17860845056279956),\n",
              " ('Displacement', 0.2373048149734736),\n",
              " ('Cylinders', 0.19333801853939828),\n",
              " ('Acceleration', 0.015693570667575235)]"
            ]
          },
          "metadata": {},
          "execution_count": 38
        }
      ]
    },
    {
      "cell_type": "code",
      "source": [
        "final_model = grid_search.best_estimator_\n",
        "\n",
        "X_test = strat_test_set.drop(\"MPG\", axis=1)\n",
        "y_test = strat_test_set[\"MPG\"].copy()\n",
        "\n",
        "X_test_preprocessed = preprocess_origin_cols(X_test)\n",
        "X_test_prepared = pipeline_transformer(X_test_preprocessed)\n",
        "\n",
        "final_predictions = final_model.predict(X_test_prepared)\n",
        "final_mse = mean_squared_error(y_test, final_predictions)\n",
        "final_rmse = np.sqrt(final_mse)"
      ],
      "metadata": {
        "id": "Bkdb6vTfKq8u"
      },
      "execution_count": null,
      "outputs": []
    },
    {
      "cell_type": "code",
      "source": [
        "final_rmse"
      ],
      "metadata": {
        "id": "CkYOJEJqKq-n",
        "colab": {
          "base_uri": "https://localhost:8080/"
        },
        "outputId": "9e377aea-2f0c-46a6-f624-440914c60aa0"
      },
      "execution_count": null,
      "outputs": [
        {
          "output_type": "execute_result",
          "data": {
            "text/plain": [
              "3.018096990562837"
            ]
          },
          "metadata": {},
          "execution_count": 40
        }
      ]
    },
    {
      "cell_type": "code",
      "source": [
        "def predict_mpg(config, model):\n",
        "    \n",
        "    if type(config) == dict:\n",
        "        df = pd.DataFrame(config)\n",
        "    else:\n",
        "        df = config\n",
        "    \n",
        "    preproc_df = preprocess_origin_cols(df)\n",
        "    prepared_df = pipeline_transformer(preproc_df)\n",
        "    y_pred = model.predict(prepared_df)\n",
        "    return y_pred"
      ],
      "metadata": {
        "id": "tM1k1c9bKrAd"
      },
      "execution_count": null,
      "outputs": []
    },
    {
      "cell_type": "code",
      "source": [
        "##checking it on a random sample\n",
        "vehicle_config = {\n",
        "    'Cylinders': [4, 6, 8],\n",
        "    'Displacement': [155.0, 160.0, 165.5],\n",
        "    'Horsepower': [93.0, 130.0, 98.0],\n",
        "    'Weight': [2500.0, 3150.0, 2600.0],\n",
        "    'Acceleration': [15.0, 14.0, 16.0],\n",
        "    'Model Year': [81, 80, 78],\n",
        "    'Origin': [3, 2, 1]\n",
        "}\n",
        "\n",
        "predict_mpg(vehicle_config, final_model)"
      ],
      "metadata": {
        "id": "nxI3MFXMKrCT",
        "colab": {
          "base_uri": "https://localhost:8080/"
        },
        "outputId": "701795e4-0f85-4341-b132-817936a0b34c"
      },
      "execution_count": null,
      "outputs": [
        {
          "output_type": "execute_result",
          "data": {
            "text/plain": [
              "array([32.13333333, 17.47333333, 20.83333333])"
            ]
          },
          "metadata": {},
          "execution_count": 42
        }
      ]
    },
    {
      "cell_type": "markdown",
      "source": [
        "Saving the Model"
      ],
      "metadata": {
        "id": "SZELP05auw5D"
      }
    },
    {
      "cell_type": "code",
      "source": [
        "import pickle"
      ],
      "metadata": {
        "id": "5taIs4bEKrEK"
      },
      "execution_count": null,
      "outputs": []
    },
    {
      "cell_type": "code",
      "source": [
        "##saving the model\n",
        "with open(\"model.bin\", 'wb') as f_out:\n",
        "    pickle.dump(final_model, f_out)\n",
        "    f_out.close()"
      ],
      "metadata": {
        "id": "f0OFNbI5KrHW"
      },
      "execution_count": null,
      "outputs": []
    },
    {
      "cell_type": "code",
      "source": [
        "##loading the model from the saved file\n",
        "with open('model.bin', 'rb') as f_in:\n",
        "    model = pickle.load(f_in)\n",
        "\n",
        "predict_mpg(vehicle_config, model)"
      ],
      "metadata": {
        "id": "ijmdg-quKrKt",
        "colab": {
          "base_uri": "https://localhost:8080/"
        },
        "outputId": "ed801639-0243-4eaf-a88e-28c900115a93"
      },
      "execution_count": null,
      "outputs": [
        {
          "output_type": "execute_result",
          "data": {
            "text/plain": [
              "array([32.13333333, 17.47333333, 20.83333333])"
            ]
          },
          "metadata": {},
          "execution_count": 45
        }
      ]
    },
    {
      "cell_type": "code",
      "source": [
        ""
      ],
      "metadata": {
        "id": "_GQEMBKnKrMW"
      },
      "execution_count": null,
      "outputs": []
    },
    {
      "cell_type": "code",
      "source": [
        ""
      ],
      "metadata": {
        "id": "8VczTfmDKrU1"
      },
      "execution_count": null,
      "outputs": []
    },
    {
      "cell_type": "code",
      "source": [
        ""
      ],
      "metadata": {
        "id": "xcHz66MGKrWu"
      },
      "execution_count": null,
      "outputs": []
    },
    {
      "cell_type": "code",
      "source": [
        ""
      ],
      "metadata": {
        "id": "HD7fhpXqKrYL"
      },
      "execution_count": null,
      "outputs": []
    },
    {
      "cell_type": "code",
      "source": [
        ""
      ],
      "metadata": {
        "id": "xF47sMBsKrZt"
      },
      "execution_count": null,
      "outputs": []
    },
    {
      "cell_type": "code",
      "source": [
        ""
      ],
      "metadata": {
        "id": "T8H18bWyKrbW"
      },
      "execution_count": null,
      "outputs": []
    },
    {
      "cell_type": "code",
      "source": [
        ""
      ],
      "metadata": {
        "id": "I2IyyXALKrdX"
      },
      "execution_count": null,
      "outputs": []
    },
    {
      "cell_type": "code",
      "source": [
        ""
      ],
      "metadata": {
        "id": "sNy9-ybiKrfH"
      },
      "execution_count": null,
      "outputs": []
    },
    {
      "cell_type": "code",
      "source": [
        ""
      ],
      "metadata": {
        "id": "EQDO5DnlKrgj"
      },
      "execution_count": null,
      "outputs": []
    },
    {
      "cell_type": "code",
      "source": [
        ""
      ],
      "metadata": {
        "id": "yNx20rhUKriQ"
      },
      "execution_count": null,
      "outputs": []
    },
    {
      "cell_type": "code",
      "source": [
        ""
      ],
      "metadata": {
        "id": "-1OLM9oqKrkJ"
      },
      "execution_count": null,
      "outputs": []
    }
  ]
}